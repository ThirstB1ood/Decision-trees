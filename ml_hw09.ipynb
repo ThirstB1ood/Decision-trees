{
 "cells": [
  {
   "cell_type": "code",
   "execution_count": 3,
   "metadata": {
    "id": "y3DiadTG-ru-"
   },
   "outputs": [],
   "source": [
    "import pandas as pd\n",
    "import numpy as np\n",
    "from matplotlib import pyplot as plt"
   ]
  },
  {
   "cell_type": "markdown",
   "metadata": {
    "id": "-QpBS-Nd-fAO"
   },
   "source": [
    "# Домашняя работа: деревья решений"
   ]
  },
  {
   "cell_type": "markdown",
   "metadata": {
    "id": "1ZVCYFgU-5Tw"
   },
   "source": [
    "В этой домашней работе вам предстоит научиться предсказывать цены товаров из маркетплейса Azamon.\n",
    "\n",
    "Требования к домашней работе:\n",
    "- Во всех графиках должны быть подписи через title, legend, etc.\n",
    "- Во время обучения моделей проверяйте, что у вас не текут данные. Обычно это позитивно влияет на качество модели на тесте, но негативно влияет на оценку 🌚\n",
    "- Если вы сдаете работу в Google Colaboratory, убедитесь, что ваша тетрадка доступна по ссылке. Если в итоге по каким-то причинам тетрадка не будет открываться у преподавателя, задание не будет засчитано\n",
    "- Использование мемов допускается, но необходимо соблюдать меру. Несодержательная работа, состоящая только из мемов, получает 0 баллов."
   ]
  },
  {
   "cell_type": "markdown",
   "metadata": {
    "id": "JyTAlXb8CbXk"
   },
   "source": [
    "# Загрузка и подготовка данных"
   ]
  },
  {
   "cell_type": "code",
   "execution_count": null,
   "metadata": {
    "id": "_Bfhk7qNskSS"
   },
   "outputs": [],
   "source": [
    "!gdown 18PVwZWFbpRbEHW-Hc8R0DUTl9CF1aQa0 -O data.csv"
   ]
  },
  {
   "cell_type": "code",
   "execution_count": 4,
   "metadata": {
    "id": "XFUHeIu3vcWD"
   },
   "outputs": [],
   "source": [
    "df = pd.read_csv('data.csv').drop(columns=[\n",
    "    'product_name',\n",
    "    'index',\n",
    "    'uniq_id',\n",
    "    'customers_who_bought_this_item_also_bought',\n",
    "    'items_customers_buy_after_viewing_this_item',\n",
    "    'sellers',\n",
    "    'description', # text\n",
    "    'product_information', # text\n",
    "    'product_description', # text\n",
    "    'customer_questions_and_answers', # text\n",
    "    'customer_reviews', # text\n",
    "])"
   ]
  },
  {
   "cell_type": "code",
   "execution_count": 5,
   "metadata": {
    "id": "Q5_j0kenwogy"
   },
   "outputs": [
    {
     "data": {
      "text/plain": [
       "Index(['manufacturer', 'price', 'number_available_in_stock',\n",
       "       'number_of_reviews', 'number_of_answered_questions',\n",
       "       'average_review_rating', 'amazon_category_and_sub_category'],\n",
       "      dtype='object')"
      ]
     },
     "execution_count": 5,
     "metadata": {},
     "output_type": "execute_result"
    }
   ],
   "source": [
    "df.columns"
   ]
  },
  {
   "cell_type": "code",
   "execution_count": null,
   "metadata": {
    "id": "Htzwn5h9wjri"
   },
   "outputs": [],
   "source": [
    "X, y = df.drop(columns=['price']), df.price"
   ]
  },
  {
   "cell_type": "markdown",
   "metadata": {
    "id": "O59k78A8C_yP"
   },
   "source": [
    "## Очистка данных (1 балл)\n",
    "\n",
    "Посмотрите на признаки. Есть ли в них пропуски? Какое соотношение между NaN'ами и общим количеством данных? Есть ли смысл выкидывать какие-либо данные из этого датасета?"
   ]
  },
  {
   "cell_type": "code",
   "execution_count": 82,
   "metadata": {},
   "outputs": [],
   "source": [
    "df_clean = df.dropna(subset=['manufacturer', 'amazon_category_and_sub_category'])\n",
    "# df_clean"
   ]
  },
  {
   "cell_type": "code",
   "execution_count": 83,
   "metadata": {
    "id": "hz7l2Z6mDcBi"
   },
   "outputs": [
    {
     "data": {
      "text/html": [
       "<div>\n",
       "<style scoped>\n",
       "    .dataframe tbody tr th:only-of-type {\n",
       "        vertical-align: middle;\n",
       "    }\n",
       "\n",
       "    .dataframe tbody tr th {\n",
       "        vertical-align: top;\n",
       "    }\n",
       "\n",
       "    .dataframe thead th {\n",
       "        text-align: right;\n",
       "    }\n",
       "</style>\n",
       "<table border=\"1\" class=\"dataframe\">\n",
       "  <thead>\n",
       "    <tr style=\"text-align: right;\">\n",
       "      <th></th>\n",
       "      <th>manufacturer</th>\n",
       "      <th>price</th>\n",
       "      <th>number_available_in_stock</th>\n",
       "      <th>number_of_reviews</th>\n",
       "      <th>number_of_answered_questions</th>\n",
       "      <th>average_review_rating</th>\n",
       "      <th>amazon_category_and_sub_category</th>\n",
       "    </tr>\n",
       "  </thead>\n",
       "  <tbody>\n",
       "    <tr>\n",
       "      <th>0</th>\n",
       "      <td>Hornby</td>\n",
       "      <td>£3.42</td>\n",
       "      <td>5 new</td>\n",
       "      <td>15</td>\n",
       "      <td>1.0</td>\n",
       "      <td>4.9 out of 5 stars</td>\n",
       "      <td>Hobbies &gt; Model Trains &amp; Railway Sets &gt; Rail V...</td>\n",
       "    </tr>\n",
       "    <tr>\n",
       "      <th>1</th>\n",
       "      <td>FunkyBuys</td>\n",
       "      <td>£16.99</td>\n",
       "      <td>0</td>\n",
       "      <td>2</td>\n",
       "      <td>1.0</td>\n",
       "      <td>4.5 out of 5 stars</td>\n",
       "      <td>Hobbies &gt; Model Trains &amp; Railway Sets &gt; Rail V...</td>\n",
       "    </tr>\n",
       "    <tr>\n",
       "      <th>2</th>\n",
       "      <td>ccf</td>\n",
       "      <td>£9.99</td>\n",
       "      <td>2 new</td>\n",
       "      <td>17</td>\n",
       "      <td>2.0</td>\n",
       "      <td>3.9 out of 5 stars</td>\n",
       "      <td>Hobbies &gt; Model Trains &amp; Railway Sets &gt; Rail V...</td>\n",
       "    </tr>\n",
       "    <tr>\n",
       "      <th>3</th>\n",
       "      <td>Hornby</td>\n",
       "      <td>£39.99</td>\n",
       "      <td>0</td>\n",
       "      <td>1</td>\n",
       "      <td>2.0</td>\n",
       "      <td>5.0 out of 5 stars</td>\n",
       "      <td>Hobbies &gt; Model Trains &amp; Railway Sets &gt; Rail V...</td>\n",
       "    </tr>\n",
       "    <tr>\n",
       "      <th>4</th>\n",
       "      <td>Hornby</td>\n",
       "      <td>£32.19</td>\n",
       "      <td>0</td>\n",
       "      <td>3</td>\n",
       "      <td>2.0</td>\n",
       "      <td>4.7 out of 5 stars</td>\n",
       "      <td>Hobbies &gt; Model Trains &amp; Railway Sets &gt; Rail V...</td>\n",
       "    </tr>\n",
       "    <tr>\n",
       "      <th>...</th>\n",
       "      <td>...</td>\n",
       "      <td>...</td>\n",
       "      <td>...</td>\n",
       "      <td>...</td>\n",
       "      <td>...</td>\n",
       "      <td>...</td>\n",
       "      <td>...</td>\n",
       "    </tr>\n",
       "    <tr>\n",
       "      <th>8542</th>\n",
       "      <td>Mattel</td>\n",
       "      <td>£22.95</td>\n",
       "      <td>5 new</td>\n",
       "      <td>3</td>\n",
       "      <td>3.0</td>\n",
       "      <td>5.0 out of 5 stars</td>\n",
       "      <td>Hobbies &gt; Collectible Figures &amp; Memorabilia &gt; ...</td>\n",
       "    </tr>\n",
       "    <tr>\n",
       "      <th>8543</th>\n",
       "      <td>Star Wars</td>\n",
       "      <td>£39.99</td>\n",
       "      <td>0</td>\n",
       "      <td>1</td>\n",
       "      <td>3.0</td>\n",
       "      <td>4.0 out of 5 stars</td>\n",
       "      <td>Characters &amp; Brands &gt; Star Wars &gt; Toys</td>\n",
       "    </tr>\n",
       "    <tr>\n",
       "      <th>8544</th>\n",
       "      <td>Olde Scotland Yard Ltd.</td>\n",
       "      <td>£43.99</td>\n",
       "      <td>3 new</td>\n",
       "      <td>1</td>\n",
       "      <td>3.0</td>\n",
       "      <td>5.0 out of 5 stars</td>\n",
       "      <td>Novelty &amp; Special Use &gt; Novelty &gt; Accessories ...</td>\n",
       "    </tr>\n",
       "    <tr>\n",
       "      <th>8545</th>\n",
       "      <td>DC Comics</td>\n",
       "      <td>£49.81</td>\n",
       "      <td>3 new</td>\n",
       "      <td>1</td>\n",
       "      <td>3.0</td>\n",
       "      <td>5.0 out of 5 stars</td>\n",
       "      <td>Hobbies &gt; Collectible Figures &amp; Memorabilia &gt; ...</td>\n",
       "    </tr>\n",
       "    <tr>\n",
       "      <th>8546</th>\n",
       "      <td>Bandai</td>\n",
       "      <td>£21.20</td>\n",
       "      <td>31 new</td>\n",
       "      <td>11</td>\n",
       "      <td>3.0</td>\n",
       "      <td>4.5 out of 5 stars</td>\n",
       "      <td>Characters &amp; Brands &gt; Star Wars &gt; Toys</td>\n",
       "    </tr>\n",
       "  </tbody>\n",
       "</table>\n",
       "<p>7994 rows × 7 columns</p>\n",
       "</div>"
      ],
      "text/plain": [
       "                 manufacturer   price number_available_in_stock  \\\n",
       "0                      Hornby   £3.42                     5 new   \n",
       "1                   FunkyBuys  £16.99                         0   \n",
       "2                         ccf   £9.99                     2 new   \n",
       "3                      Hornby  £39.99                         0   \n",
       "4                      Hornby  £32.19                         0   \n",
       "...                       ...     ...                       ...   \n",
       "8542                   Mattel  £22.95                     5 new   \n",
       "8543                Star Wars  £39.99                         0   \n",
       "8544  Olde Scotland Yard Ltd.  £43.99                     3 new   \n",
       "8545                DC Comics  £49.81                     3 new   \n",
       "8546                   Bandai  £21.20                    31 new   \n",
       "\n",
       "     number_of_reviews  number_of_answered_questions average_review_rating  \\\n",
       "0                   15                           1.0    4.9 out of 5 stars   \n",
       "1                    2                           1.0    4.5 out of 5 stars   \n",
       "2                   17                           2.0    3.9 out of 5 stars   \n",
       "3                    1                           2.0    5.0 out of 5 stars   \n",
       "4                    3                           2.0    4.7 out of 5 stars   \n",
       "...                ...                           ...                   ...   \n",
       "8542                 3                           3.0    5.0 out of 5 stars   \n",
       "8543                 1                           3.0    4.0 out of 5 stars   \n",
       "8544                 1                           3.0    5.0 out of 5 stars   \n",
       "8545                 1                           3.0    5.0 out of 5 stars   \n",
       "8546                11                           3.0    4.5 out of 5 stars   \n",
       "\n",
       "                       amazon_category_and_sub_category  \n",
       "0     Hobbies > Model Trains & Railway Sets > Rail V...  \n",
       "1     Hobbies > Model Trains & Railway Sets > Rail V...  \n",
       "2     Hobbies > Model Trains & Railway Sets > Rail V...  \n",
       "3     Hobbies > Model Trains & Railway Sets > Rail V...  \n",
       "4     Hobbies > Model Trains & Railway Sets > Rail V...  \n",
       "...                                                 ...  \n",
       "8542  Hobbies > Collectible Figures & Memorabilia > ...  \n",
       "8543             Characters & Brands > Star Wars > Toys  \n",
       "8544  Novelty & Special Use > Novelty > Accessories ...  \n",
       "8545  Hobbies > Collectible Figures & Memorabilia > ...  \n",
       "8546             Characters & Brands > Star Wars > Toys  \n",
       "\n",
       "[7994 rows x 7 columns]"
      ]
     },
     "execution_count": 83,
     "metadata": {},
     "output_type": "execute_result"
    }
   ],
   "source": [
    "# Ваш код\n",
    "df_clean.loc[df_clean['number_available_in_stock'].isna(), 'number_available_in_stock'] = 0\n",
    "df_clean"
   ]
  },
  {
   "cell_type": "code",
   "execution_count": 85,
   "metadata": {},
   "outputs": [],
   "source": [
    "X, y = df_clean.drop(columns=['price']), df_clean.price"
   ]
  },
  {
   "cell_type": "markdown",
   "metadata": {
    "id": "eH688KdZDdKY"
   },
   "source": [
    "## Подготовка данных (3 балла)\n",
    "\n",
    "Обработайте признаки. Выполните кодирование категориальных признаков, заполните пропуски в числовых признаках. Обратите внимание, что в датасете есть признак, который разбивается на несколько подпризнаков. Что это за признак? Закодируйте и его.\n",
    "\n",
    "Дополнительные вопросы (+ 1 балл):\n",
    "- Какие из признаков в этом датасете лучше кодировать через ordinal encoding?\n",
    "- Какие из признаков допустимо кодировать через one-hot?\n",
    "\n",
    "Прим.: суммарно за эту секцию можно получить до 4 баллов."
   ]
  },
  {
   "cell_type": "markdown",
   "metadata": {},
   "source": [
    "На мой взгляд, больше всего для ordinal encoding подходит \"average_review_rating\".\n",
    "А для one-hot подходит \"number_available_in_stock\", а именно вторая часть этого признака."
   ]
  },
  {
   "cell_type": "code",
   "execution_count": 88,
   "metadata": {},
   "outputs": [
    {
     "data": {
      "text/plain": [
       "Series([], Name: number_of_reviews, dtype: object)"
      ]
     },
     "execution_count": 88,
     "metadata": {},
     "output_type": "execute_result"
    }
   ],
   "source": [
    "X['number_of_reviews'].loc[X['number_of_answered_questions']=='1,040']"
   ]
  },
  {
   "cell_type": "code",
   "execution_count": 89,
   "metadata": {},
   "outputs": [],
   "source": [
    "# numeric_columns = ['number_of_reviews', 'number_of_answered_questions']\n",
    "# for column in numeric_columns:\n",
    "#     X[column].fillna(X[column].median(), inplace=True)\n",
    "X['average_review_rating'].fillna(X['average_review_rating'].mode(), inplace=True)"
   ]
  },
  {
   "cell_type": "code",
   "execution_count": 90,
   "metadata": {},
   "outputs": [],
   "source": [
    "X['number_of_reviews'] = X['number_of_reviews'].str.replace(',', '').astype(float)\n",
    "\n",
    "# X['number_of_reviews'] = X['number_of_reviews'].astype(float)\n",
    "X['number_of_reviews'].fillna(X['number_of_reviews'].mean(), inplace=True)"
   ]
  },
  {
   "cell_type": "code",
   "execution_count": 91,
   "metadata": {},
   "outputs": [],
   "source": [
    "X['number_of_answered_questions'] = X['number_of_answered_questions'].astype(float)\n",
    "\n",
    "# X['number_of_reviews'] = X['number_of_reviews'].astype(float)\n",
    "X['number_of_answered_questions'].fillna(X['number_of_answered_questions'].mean(), inplace=True)"
   ]
  },
  {
   "cell_type": "code",
   "execution_count": 94,
   "metadata": {
    "scrolled": false
   },
   "outputs": [],
   "source": [
    "categorical_columns = ['manufacturer', 'average_review_rating', 'amazon_category_and_sub_category', 'unit']\n",
    "X = pd.get_dummies(X, columns=categorical_columns)"
   ]
  },
  {
   "cell_type": "code",
   "execution_count": 93,
   "metadata": {
    "id": "IVNne3QKERCk",
    "scrolled": true
   },
   "outputs": [],
   "source": [
    "# Ваш код\n",
    "\n",
    "X[['number', 'unit']] = X['number_available_in_stock'].str.split('\\xa0', expand=True)\n",
    "X.drop('number_available_in_stock', axis=1, inplace=True)"
   ]
  },
  {
   "cell_type": "code",
   "execution_count": 96,
   "metadata": {},
   "outputs": [
    {
     "data": {
      "text/html": [
       "<div>\n",
       "<style scoped>\n",
       "    .dataframe tbody tr th:only-of-type {\n",
       "        vertical-align: middle;\n",
       "    }\n",
       "\n",
       "    .dataframe tbody tr th {\n",
       "        vertical-align: top;\n",
       "    }\n",
       "\n",
       "    .dataframe thead th {\n",
       "        text-align: right;\n",
       "    }\n",
       "</style>\n",
       "<table border=\"1\" class=\"dataframe\">\n",
       "  <thead>\n",
       "    <tr style=\"text-align: right;\">\n",
       "      <th></th>\n",
       "      <th>number_of_reviews</th>\n",
       "      <th>number_of_answered_questions</th>\n",
       "      <th>number</th>\n",
       "      <th>manufacturer_101</th>\n",
       "      <th>manufacturer_16th Birthday 16th Foil Banner - 9ft</th>\n",
       "      <th>manufacturer_1st birthday</th>\n",
       "      <th>manufacturer_2-in-1 Chess &amp; Draughts</th>\n",
       "      <th>manufacturer_24 Game</th>\n",
       "      <th>manufacturer_4 Pocket Pro Binder Black</th>\n",
       "      <th>manufacturer_45\" Sunset Glow Pool</th>\n",
       "      <th>...</th>\n",
       "      <th>amazon_category_and_sub_category_Storage, Cleaning &amp; Ring Sizers &gt; Boxes &amp; Organisers</th>\n",
       "      <th>amazon_category_and_sub_category_Supporters' Gear &gt; Football &gt; Memorabilia &amp; Collectibles</th>\n",
       "      <th>amazon_category_and_sub_category_Sweets, Chocolate &amp; Gum &gt; Chocolate &gt; Bars &gt; Multipack Bars</th>\n",
       "      <th>amazon_category_and_sub_category_Women &gt; Accessories</th>\n",
       "      <th>amazon_category_and_sub_category_Women &gt; Accessories &gt; Eyewear &amp; Accessories &gt; Sunglasses</th>\n",
       "      <th>amazon_category_and_sub_category_Worlds Apart &gt; Kid Venture &gt; Kites</th>\n",
       "      <th>unit_collectible</th>\n",
       "      <th>unit_new</th>\n",
       "      <th>unit_refurbished</th>\n",
       "      <th>unit_used</th>\n",
       "    </tr>\n",
       "  </thead>\n",
       "  <tbody>\n",
       "    <tr>\n",
       "      <th>0</th>\n",
       "      <td>15.0</td>\n",
       "      <td>1.0</td>\n",
       "      <td>5</td>\n",
       "      <td>0</td>\n",
       "      <td>0</td>\n",
       "      <td>0</td>\n",
       "      <td>0</td>\n",
       "      <td>0</td>\n",
       "      <td>0</td>\n",
       "      <td>0</td>\n",
       "      <td>...</td>\n",
       "      <td>0</td>\n",
       "      <td>0</td>\n",
       "      <td>0</td>\n",
       "      <td>0</td>\n",
       "      <td>0</td>\n",
       "      <td>0</td>\n",
       "      <td>0</td>\n",
       "      <td>1</td>\n",
       "      <td>0</td>\n",
       "      <td>0</td>\n",
       "    </tr>\n",
       "    <tr>\n",
       "      <th>1</th>\n",
       "      <td>2.0</td>\n",
       "      <td>1.0</td>\n",
       "      <td>0</td>\n",
       "      <td>0</td>\n",
       "      <td>0</td>\n",
       "      <td>0</td>\n",
       "      <td>0</td>\n",
       "      <td>0</td>\n",
       "      <td>0</td>\n",
       "      <td>0</td>\n",
       "      <td>...</td>\n",
       "      <td>0</td>\n",
       "      <td>0</td>\n",
       "      <td>0</td>\n",
       "      <td>0</td>\n",
       "      <td>0</td>\n",
       "      <td>0</td>\n",
       "      <td>0</td>\n",
       "      <td>0</td>\n",
       "      <td>0</td>\n",
       "      <td>0</td>\n",
       "    </tr>\n",
       "    <tr>\n",
       "      <th>2</th>\n",
       "      <td>17.0</td>\n",
       "      <td>2.0</td>\n",
       "      <td>2</td>\n",
       "      <td>0</td>\n",
       "      <td>0</td>\n",
       "      <td>0</td>\n",
       "      <td>0</td>\n",
       "      <td>0</td>\n",
       "      <td>0</td>\n",
       "      <td>0</td>\n",
       "      <td>...</td>\n",
       "      <td>0</td>\n",
       "      <td>0</td>\n",
       "      <td>0</td>\n",
       "      <td>0</td>\n",
       "      <td>0</td>\n",
       "      <td>0</td>\n",
       "      <td>0</td>\n",
       "      <td>1</td>\n",
       "      <td>0</td>\n",
       "      <td>0</td>\n",
       "    </tr>\n",
       "    <tr>\n",
       "      <th>3</th>\n",
       "      <td>1.0</td>\n",
       "      <td>2.0</td>\n",
       "      <td>0</td>\n",
       "      <td>0</td>\n",
       "      <td>0</td>\n",
       "      <td>0</td>\n",
       "      <td>0</td>\n",
       "      <td>0</td>\n",
       "      <td>0</td>\n",
       "      <td>0</td>\n",
       "      <td>...</td>\n",
       "      <td>0</td>\n",
       "      <td>0</td>\n",
       "      <td>0</td>\n",
       "      <td>0</td>\n",
       "      <td>0</td>\n",
       "      <td>0</td>\n",
       "      <td>0</td>\n",
       "      <td>0</td>\n",
       "      <td>0</td>\n",
       "      <td>0</td>\n",
       "    </tr>\n",
       "    <tr>\n",
       "      <th>4</th>\n",
       "      <td>3.0</td>\n",
       "      <td>2.0</td>\n",
       "      <td>0</td>\n",
       "      <td>0</td>\n",
       "      <td>0</td>\n",
       "      <td>0</td>\n",
       "      <td>0</td>\n",
       "      <td>0</td>\n",
       "      <td>0</td>\n",
       "      <td>0</td>\n",
       "      <td>...</td>\n",
       "      <td>0</td>\n",
       "      <td>0</td>\n",
       "      <td>0</td>\n",
       "      <td>0</td>\n",
       "      <td>0</td>\n",
       "      <td>0</td>\n",
       "      <td>0</td>\n",
       "      <td>0</td>\n",
       "      <td>0</td>\n",
       "      <td>0</td>\n",
       "    </tr>\n",
       "    <tr>\n",
       "      <th>...</th>\n",
       "      <td>...</td>\n",
       "      <td>...</td>\n",
       "      <td>...</td>\n",
       "      <td>...</td>\n",
       "      <td>...</td>\n",
       "      <td>...</td>\n",
       "      <td>...</td>\n",
       "      <td>...</td>\n",
       "      <td>...</td>\n",
       "      <td>...</td>\n",
       "      <td>...</td>\n",
       "      <td>...</td>\n",
       "      <td>...</td>\n",
       "      <td>...</td>\n",
       "      <td>...</td>\n",
       "      <td>...</td>\n",
       "      <td>...</td>\n",
       "      <td>...</td>\n",
       "      <td>...</td>\n",
       "      <td>...</td>\n",
       "      <td>...</td>\n",
       "    </tr>\n",
       "    <tr>\n",
       "      <th>8542</th>\n",
       "      <td>3.0</td>\n",
       "      <td>3.0</td>\n",
       "      <td>5</td>\n",
       "      <td>0</td>\n",
       "      <td>0</td>\n",
       "      <td>0</td>\n",
       "      <td>0</td>\n",
       "      <td>0</td>\n",
       "      <td>0</td>\n",
       "      <td>0</td>\n",
       "      <td>...</td>\n",
       "      <td>0</td>\n",
       "      <td>0</td>\n",
       "      <td>0</td>\n",
       "      <td>0</td>\n",
       "      <td>0</td>\n",
       "      <td>0</td>\n",
       "      <td>0</td>\n",
       "      <td>1</td>\n",
       "      <td>0</td>\n",
       "      <td>0</td>\n",
       "    </tr>\n",
       "    <tr>\n",
       "      <th>8543</th>\n",
       "      <td>1.0</td>\n",
       "      <td>3.0</td>\n",
       "      <td>0</td>\n",
       "      <td>0</td>\n",
       "      <td>0</td>\n",
       "      <td>0</td>\n",
       "      <td>0</td>\n",
       "      <td>0</td>\n",
       "      <td>0</td>\n",
       "      <td>0</td>\n",
       "      <td>...</td>\n",
       "      <td>0</td>\n",
       "      <td>0</td>\n",
       "      <td>0</td>\n",
       "      <td>0</td>\n",
       "      <td>0</td>\n",
       "      <td>0</td>\n",
       "      <td>0</td>\n",
       "      <td>0</td>\n",
       "      <td>0</td>\n",
       "      <td>0</td>\n",
       "    </tr>\n",
       "    <tr>\n",
       "      <th>8544</th>\n",
       "      <td>1.0</td>\n",
       "      <td>3.0</td>\n",
       "      <td>3</td>\n",
       "      <td>0</td>\n",
       "      <td>0</td>\n",
       "      <td>0</td>\n",
       "      <td>0</td>\n",
       "      <td>0</td>\n",
       "      <td>0</td>\n",
       "      <td>0</td>\n",
       "      <td>...</td>\n",
       "      <td>0</td>\n",
       "      <td>0</td>\n",
       "      <td>0</td>\n",
       "      <td>0</td>\n",
       "      <td>0</td>\n",
       "      <td>0</td>\n",
       "      <td>0</td>\n",
       "      <td>1</td>\n",
       "      <td>0</td>\n",
       "      <td>0</td>\n",
       "    </tr>\n",
       "    <tr>\n",
       "      <th>8545</th>\n",
       "      <td>1.0</td>\n",
       "      <td>3.0</td>\n",
       "      <td>3</td>\n",
       "      <td>0</td>\n",
       "      <td>0</td>\n",
       "      <td>0</td>\n",
       "      <td>0</td>\n",
       "      <td>0</td>\n",
       "      <td>0</td>\n",
       "      <td>0</td>\n",
       "      <td>...</td>\n",
       "      <td>0</td>\n",
       "      <td>0</td>\n",
       "      <td>0</td>\n",
       "      <td>0</td>\n",
       "      <td>0</td>\n",
       "      <td>0</td>\n",
       "      <td>0</td>\n",
       "      <td>1</td>\n",
       "      <td>0</td>\n",
       "      <td>0</td>\n",
       "    </tr>\n",
       "    <tr>\n",
       "      <th>8546</th>\n",
       "      <td>11.0</td>\n",
       "      <td>3.0</td>\n",
       "      <td>31</td>\n",
       "      <td>0</td>\n",
       "      <td>0</td>\n",
       "      <td>0</td>\n",
       "      <td>0</td>\n",
       "      <td>0</td>\n",
       "      <td>0</td>\n",
       "      <td>0</td>\n",
       "      <td>...</td>\n",
       "      <td>0</td>\n",
       "      <td>0</td>\n",
       "      <td>0</td>\n",
       "      <td>0</td>\n",
       "      <td>0</td>\n",
       "      <td>0</td>\n",
       "      <td>0</td>\n",
       "      <td>1</td>\n",
       "      <td>0</td>\n",
       "      <td>0</td>\n",
       "    </tr>\n",
       "  </tbody>\n",
       "</table>\n",
       "<p>7994 rows × 2445 columns</p>\n",
       "</div>"
      ],
      "text/plain": [
       "      number_of_reviews  number_of_answered_questions number  \\\n",
       "0                  15.0                           1.0      5   \n",
       "1                   2.0                           1.0      0   \n",
       "2                  17.0                           2.0      2   \n",
       "3                   1.0                           2.0      0   \n",
       "4                   3.0                           2.0      0   \n",
       "...                 ...                           ...    ...   \n",
       "8542                3.0                           3.0      5   \n",
       "8543                1.0                           3.0      0   \n",
       "8544                1.0                           3.0      3   \n",
       "8545                1.0                           3.0      3   \n",
       "8546               11.0                           3.0     31   \n",
       "\n",
       "      manufacturer_101  manufacturer_16th Birthday 16th Foil Banner - 9ft  \\\n",
       "0                    0                                                  0   \n",
       "1                    0                                                  0   \n",
       "2                    0                                                  0   \n",
       "3                    0                                                  0   \n",
       "4                    0                                                  0   \n",
       "...                ...                                                ...   \n",
       "8542                 0                                                  0   \n",
       "8543                 0                                                  0   \n",
       "8544                 0                                                  0   \n",
       "8545                 0                                                  0   \n",
       "8546                 0                                                  0   \n",
       "\n",
       "      manufacturer_1st birthday  manufacturer_2-in-1 Chess & Draughts  \\\n",
       "0                             0                                     0   \n",
       "1                             0                                     0   \n",
       "2                             0                                     0   \n",
       "3                             0                                     0   \n",
       "4                             0                                     0   \n",
       "...                         ...                                   ...   \n",
       "8542                          0                                     0   \n",
       "8543                          0                                     0   \n",
       "8544                          0                                     0   \n",
       "8545                          0                                     0   \n",
       "8546                          0                                     0   \n",
       "\n",
       "      manufacturer_24 Game  manufacturer_4 Pocket Pro Binder Black  \\\n",
       "0                        0                                       0   \n",
       "1                        0                                       0   \n",
       "2                        0                                       0   \n",
       "3                        0                                       0   \n",
       "4                        0                                       0   \n",
       "...                    ...                                     ...   \n",
       "8542                     0                                       0   \n",
       "8543                     0                                       0   \n",
       "8544                     0                                       0   \n",
       "8545                     0                                       0   \n",
       "8546                     0                                       0   \n",
       "\n",
       "      manufacturer_45\" Sunset Glow Pool  ...  \\\n",
       "0                                     0  ...   \n",
       "1                                     0  ...   \n",
       "2                                     0  ...   \n",
       "3                                     0  ...   \n",
       "4                                     0  ...   \n",
       "...                                 ...  ...   \n",
       "8542                                  0  ...   \n",
       "8543                                  0  ...   \n",
       "8544                                  0  ...   \n",
       "8545                                  0  ...   \n",
       "8546                                  0  ...   \n",
       "\n",
       "      amazon_category_and_sub_category_Storage, Cleaning & Ring Sizers > Boxes & Organisers  \\\n",
       "0                                                     0                                       \n",
       "1                                                     0                                       \n",
       "2                                                     0                                       \n",
       "3                                                     0                                       \n",
       "4                                                     0                                       \n",
       "...                                                 ...                                       \n",
       "8542                                                  0                                       \n",
       "8543                                                  0                                       \n",
       "8544                                                  0                                       \n",
       "8545                                                  0                                       \n",
       "8546                                                  0                                       \n",
       "\n",
       "      amazon_category_and_sub_category_Supporters' Gear > Football > Memorabilia & Collectibles  \\\n",
       "0                                                     0                                           \n",
       "1                                                     0                                           \n",
       "2                                                     0                                           \n",
       "3                                                     0                                           \n",
       "4                                                     0                                           \n",
       "...                                                 ...                                           \n",
       "8542                                                  0                                           \n",
       "8543                                                  0                                           \n",
       "8544                                                  0                                           \n",
       "8545                                                  0                                           \n",
       "8546                                                  0                                           \n",
       "\n",
       "      amazon_category_and_sub_category_Sweets, Chocolate & Gum > Chocolate > Bars > Multipack Bars  \\\n",
       "0                                                     0                                              \n",
       "1                                                     0                                              \n",
       "2                                                     0                                              \n",
       "3                                                     0                                              \n",
       "4                                                     0                                              \n",
       "...                                                 ...                                              \n",
       "8542                                                  0                                              \n",
       "8543                                                  0                                              \n",
       "8544                                                  0                                              \n",
       "8545                                                  0                                              \n",
       "8546                                                  0                                              \n",
       "\n",
       "      amazon_category_and_sub_category_Women > Accessories  \\\n",
       "0                                                     0      \n",
       "1                                                     0      \n",
       "2                                                     0      \n",
       "3                                                     0      \n",
       "4                                                     0      \n",
       "...                                                 ...      \n",
       "8542                                                  0      \n",
       "8543                                                  0      \n",
       "8544                                                  0      \n",
       "8545                                                  0      \n",
       "8546                                                  0      \n",
       "\n",
       "      amazon_category_and_sub_category_Women > Accessories > Eyewear & Accessories > Sunglasses  \\\n",
       "0                                                     0                                           \n",
       "1                                                     0                                           \n",
       "2                                                     0                                           \n",
       "3                                                     0                                           \n",
       "4                                                     0                                           \n",
       "...                                                 ...                                           \n",
       "8542                                                  0                                           \n",
       "8543                                                  0                                           \n",
       "8544                                                  0                                           \n",
       "8545                                                  0                                           \n",
       "8546                                                  0                                           \n",
       "\n",
       "      amazon_category_and_sub_category_Worlds Apart > Kid Venture > Kites  \\\n",
       "0                                                     0                     \n",
       "1                                                     0                     \n",
       "2                                                     0                     \n",
       "3                                                     0                     \n",
       "4                                                     0                     \n",
       "...                                                 ...                     \n",
       "8542                                                  0                     \n",
       "8543                                                  0                     \n",
       "8544                                                  0                     \n",
       "8545                                                  0                     \n",
       "8546                                                  0                     \n",
       "\n",
       "      unit_collectible  unit_new  unit_refurbished  unit_used  \n",
       "0                    0         1                 0          0  \n",
       "1                    0         0                 0          0  \n",
       "2                    0         1                 0          0  \n",
       "3                    0         0                 0          0  \n",
       "4                    0         0                 0          0  \n",
       "...                ...       ...               ...        ...  \n",
       "8542                 0         1                 0          0  \n",
       "8543                 0         0                 0          0  \n",
       "8544                 0         1                 0          0  \n",
       "8545                 0         1                 0          0  \n",
       "8546                 0         1                 0          0  \n",
       "\n",
       "[7994 rows x 2445 columns]"
      ]
     },
     "execution_count": 96,
     "metadata": {},
     "output_type": "execute_result"
    }
   ],
   "source": [
    "X['number'].fillna(0, inplace=True)\n",
    "X"
   ]
  },
  {
   "cell_type": "markdown",
   "metadata": {
    "id": "JTRoUwANEcn9"
   },
   "source": [
    "# Обучение модели (3 балла)"
   ]
  },
  {
   "cell_type": "markdown",
   "metadata": {
    "id": "AyVaKKT7FFo5"
   },
   "source": [
    "## Бейзлайн\n",
    "\n",
    "Обучите базовую модель. Для этого используйте `sklearn.dummy.DummyRegressor`. Какое качество она показывает на тесте? Посчитайте MSE, RMSE."
   ]
  },
  {
   "cell_type": "code",
   "execution_count": 97,
   "metadata": {},
   "outputs": [],
   "source": [
    "from sklearn.model_selection import train_test_split\n",
    "\n",
    "\n",
    "X_train, X_test, y_train, y_test = train_test_split(X, y, train_size=0.65, random_state=42)\n"
   ]
  },
  {
   "cell_type": "code",
   "execution_count": 98,
   "metadata": {
    "scrolled": true
   },
   "outputs": [],
   "source": [
    "y_train = y_train.str.replace('£', '').str.replace(',', '').astype(float)\n",
    "y_test = y_test.str.replace('£', '').str.replace(',', '').astype(float)"
   ]
  },
  {
   "cell_type": "code",
   "execution_count": 99,
   "metadata": {
    "id": "-JplspUcve0J"
   },
   "outputs": [
    {
     "data": {
      "text/html": [
       "<style>#sk-container-id-3 {color: black;background-color: white;}#sk-container-id-3 pre{padding: 0;}#sk-container-id-3 div.sk-toggleable {background-color: white;}#sk-container-id-3 label.sk-toggleable__label {cursor: pointer;display: block;width: 100%;margin-bottom: 0;padding: 0.3em;box-sizing: border-box;text-align: center;}#sk-container-id-3 label.sk-toggleable__label-arrow:before {content: \"▸\";float: left;margin-right: 0.25em;color: #696969;}#sk-container-id-3 label.sk-toggleable__label-arrow:hover:before {color: black;}#sk-container-id-3 div.sk-estimator:hover label.sk-toggleable__label-arrow:before {color: black;}#sk-container-id-3 div.sk-toggleable__content {max-height: 0;max-width: 0;overflow: hidden;text-align: left;background-color: #f0f8ff;}#sk-container-id-3 div.sk-toggleable__content pre {margin: 0.2em;color: black;border-radius: 0.25em;background-color: #f0f8ff;}#sk-container-id-3 input.sk-toggleable__control:checked~div.sk-toggleable__content {max-height: 200px;max-width: 100%;overflow: auto;}#sk-container-id-3 input.sk-toggleable__control:checked~label.sk-toggleable__label-arrow:before {content: \"▾\";}#sk-container-id-3 div.sk-estimator input.sk-toggleable__control:checked~label.sk-toggleable__label {background-color: #d4ebff;}#sk-container-id-3 div.sk-label input.sk-toggleable__control:checked~label.sk-toggleable__label {background-color: #d4ebff;}#sk-container-id-3 input.sk-hidden--visually {border: 0;clip: rect(1px 1px 1px 1px);clip: rect(1px, 1px, 1px, 1px);height: 1px;margin: -1px;overflow: hidden;padding: 0;position: absolute;width: 1px;}#sk-container-id-3 div.sk-estimator {font-family: monospace;background-color: #f0f8ff;border: 1px dotted black;border-radius: 0.25em;box-sizing: border-box;margin-bottom: 0.5em;}#sk-container-id-3 div.sk-estimator:hover {background-color: #d4ebff;}#sk-container-id-3 div.sk-parallel-item::after {content: \"\";width: 100%;border-bottom: 1px solid gray;flex-grow: 1;}#sk-container-id-3 div.sk-label:hover label.sk-toggleable__label {background-color: #d4ebff;}#sk-container-id-3 div.sk-serial::before {content: \"\";position: absolute;border-left: 1px solid gray;box-sizing: border-box;top: 0;bottom: 0;left: 50%;z-index: 0;}#sk-container-id-3 div.sk-serial {display: flex;flex-direction: column;align-items: center;background-color: white;padding-right: 0.2em;padding-left: 0.2em;position: relative;}#sk-container-id-3 div.sk-item {position: relative;z-index: 1;}#sk-container-id-3 div.sk-parallel {display: flex;align-items: stretch;justify-content: center;background-color: white;position: relative;}#sk-container-id-3 div.sk-item::before, #sk-container-id-3 div.sk-parallel-item::before {content: \"\";position: absolute;border-left: 1px solid gray;box-sizing: border-box;top: 0;bottom: 0;left: 50%;z-index: -1;}#sk-container-id-3 div.sk-parallel-item {display: flex;flex-direction: column;z-index: 1;position: relative;background-color: white;}#sk-container-id-3 div.sk-parallel-item:first-child::after {align-self: flex-end;width: 50%;}#sk-container-id-3 div.sk-parallel-item:last-child::after {align-self: flex-start;width: 50%;}#sk-container-id-3 div.sk-parallel-item:only-child::after {width: 0;}#sk-container-id-3 div.sk-dashed-wrapped {border: 1px dashed gray;margin: 0 0.4em 0.5em 0.4em;box-sizing: border-box;padding-bottom: 0.4em;background-color: white;}#sk-container-id-3 div.sk-label label {font-family: monospace;font-weight: bold;display: inline-block;line-height: 1.2em;}#sk-container-id-3 div.sk-label-container {text-align: center;}#sk-container-id-3 div.sk-container {/* jupyter's `normalize.less` sets `[hidden] { display: none; }` but bootstrap.min.css set `[hidden] { display: none !important; }` so we also need the `!important` here to be able to override the default hidden behavior on the sphinx rendered scikit-learn.org. See: https://github.com/scikit-learn/scikit-learn/issues/21755 */display: inline-block !important;position: relative;}#sk-container-id-3 div.sk-text-repr-fallback {display: none;}</style><div id=\"sk-container-id-3\" class=\"sk-top-container\"><div class=\"sk-text-repr-fallback\"><pre>DummyRegressor()</pre><b>In a Jupyter environment, please rerun this cell to show the HTML representation or trust the notebook. <br />On GitHub, the HTML representation is unable to render, please try loading this page with nbviewer.org.</b></div><div class=\"sk-container\" hidden><div class=\"sk-item\"><div class=\"sk-estimator sk-toggleable\"><input class=\"sk-toggleable__control sk-hidden--visually\" id=\"sk-estimator-id-3\" type=\"checkbox\" checked><label for=\"sk-estimator-id-3\" class=\"sk-toggleable__label sk-toggleable__label-arrow\">DummyRegressor</label><div class=\"sk-toggleable__content\"><pre>DummyRegressor()</pre></div></div></div></div></div>"
      ],
      "text/plain": [
       "DummyRegressor()"
      ]
     },
     "execution_count": 99,
     "metadata": {},
     "output_type": "execute_result"
    }
   ],
   "source": [
    "from sklearn.dummy import DummyRegressor\n",
    "\n",
    "\n",
    "dummy = DummyRegressor()\n",
    "dummy.fit(X_train, y_train)\n"
   ]
  },
  {
   "cell_type": "code",
   "execution_count": 103,
   "metadata": {
    "id": "zuFLTDnKF1qQ"
   },
   "outputs": [
    {
     "name": "stdout",
     "output_type": "stream",
     "text": [
      "MSE:  1604.1019066646816\n",
      "RMSE:  40.051241012791124\n",
      "MAE:  17.866323487413478\n"
     ]
    }
   ],
   "source": [
    "# Проверьте качество бейзлайна\n",
    "from sklearn.metrics import mean_squared_error, mean_absolute_error\n",
    "\n",
    "# Предсказываем значения для тестовой выборки\n",
    "y_pred = dummy.predict(X_test)\n",
    "\n",
    "# Оцениваем качество модели с помощью MSE и RMSE\n",
    "mse = mean_squared_error(y_test, y_pred)\n",
    "rmse = np.sqrt(mse)\n",
    "mae = mean_absolute_error(y_test, y_pred)\n",
    "\n",
    "print(\"MSE: \", mse)\n",
    "print(\"RMSE: \", rmse)\n",
    "print(\"MAE: \", mae)"
   ]
  },
  {
   "cell_type": "markdown",
   "metadata": {
    "id": "rVW-MtPgF_vE"
   },
   "source": [
    "## Дерево решений\n",
    "\n",
    "Обучите регрессионное дерево решений, проверьте качество этой модели на тестовой выборке. Улучшилось ли качество по сравнению с базовой моделью? Оцените r2_score обученной модели."
   ]
  },
  {
   "cell_type": "code",
   "execution_count": null,
   "metadata": {},
   "outputs": [],
   "source": [
    "X_train"
   ]
  },
  {
   "cell_type": "code",
   "execution_count": 104,
   "metadata": {
    "id": "Xrqo604AQvBj"
   },
   "outputs": [
    {
     "name": "stdout",
     "output_type": "stream",
     "text": [
      "R2 score: -0.2933915849836295\n"
     ]
    }
   ],
   "source": [
    "from sklearn.tree import DecisionTreeRegressor\n",
    "from sklearn.metrics import r2_score, mean_squared_error as mse\n",
    "\n",
    "# создание объекта модели\n",
    "model = DecisionTreeRegressor()\n",
    "\n",
    "# обучение модели на тренировочных данных\n",
    "model.fit(X_train, y_train)\n",
    "\n",
    "# оценка качества модели на тестовых данных\n",
    "y_pred = model.predict(X_test)\n",
    "score = r2_score(y_test, y_pred)\n",
    "\n",
    "# вывод результата\n",
    "print(\"R2 score:\", score)"
   ]
  },
  {
   "cell_type": "markdown",
   "metadata": {
    "id": "viVY_kUMG7Jv"
   },
   "source": [
    "## Линейная регрессия\n",
    "\n",
    "Попробуйте обучить линейную регрессию с параметрами по умолчанию. Оцените r2_score на тестовой выборке. Сравните качество с деревом решений. "
   ]
  },
  {
   "cell_type": "code",
   "execution_count": 51,
   "metadata": {
    "id": "oFRYt0erQ05U"
   },
   "outputs": [],
   "source": [
    "from sklearn.linear_model import LinearRegression"
   ]
  },
  {
   "cell_type": "code",
   "execution_count": 105,
   "metadata": {
    "id": "ZpPICj2tQsDS"
   },
   "outputs": [
    {
     "name": "stdout",
     "output_type": "stream",
     "text": [
      "R2 score: -1.5884631278500717e+17\n"
     ]
    }
   ],
   "source": [
    "# Ваш код\n",
    "\n",
    "# Обучение линейной регрессии\n",
    "linear_regression = LinearRegression()\n",
    "linear_regression.fit(X_train, y_train)\n",
    "\n",
    "# Предсказание на тестовой выборке с помощью линейной регрессии\n",
    "linear_regression_predictions = linear_regression.predict(X_test)\n",
    "\n",
    "# оценка качества модели\n",
    "linear_regression_r2 = r2_score(y_test, linear_regression_predictions)\n",
    "\n",
    "print(\"R2 score:\", linear_regression_r2)"
   ]
  },
  {
   "cell_type": "markdown",
   "metadata": {},
   "source": [
    "R2_score в линейной регрессии получился уже слишком огромным, возможно где-то ошибка, которую я не смог найти."
   ]
  },
  {
   "cell_type": "markdown",
   "metadata": {},
   "source": [
    "Если сравнивать согласно полученным значениям, то дерево решений в разы работают лучше на этих данных."
   ]
  },
  {
   "cell_type": "markdown",
   "metadata": {
    "id": "3J71riX2Guj3"
   },
   "source": [
    "# Гиперпараметры (2 балла)\n",
    "\n",
    "Переберите несколько гиперпараметров (не более двух-трёх). Обратите внимание, как эти параметры влияют на ошибку модели на тестовой выборке. Постройте для глубины дерева график переобучения (fitting curve) аналогичный тому, что мы строили на занятии. Найдите глубину дерева, начиная с которой модель начинает переобучаться."
   ]
  },
  {
   "cell_type": "code",
   "execution_count": 111,
   "metadata": {
    "id": "mLTTpG19Wr2l"
   },
   "outputs": [],
   "source": [
    "import seaborn as sns\n",
    "\n",
    "\n",
    "def plot_fitting_curve(parameter: str, values: list, X_train, X_test, y_train, y_test):\n",
    "    train_curve = []\n",
    "    test_curve = []\n",
    "    for value in values:\n",
    "        model = DecisionTreeRegressor(**{parameter: value})\n",
    "        model.fit(X_train, y_train)\n",
    "        y_pred_train, y_pred_test = model.predict(X_train), model.predict(X_test)\n",
    "        train_curve.append(mse(y_train, y_pred_train))\n",
    "        test_curve.append(mse(y_test, y_pred_test))\n",
    "    sns.lineplot(x=values, y=train_curve)\n",
    "    sns.lineplot(x=values, y=test_curve)"
   ]
  },
  {
   "cell_type": "code",
   "execution_count": 110,
   "metadata": {
    "id": "5CQySD968W0J"
   },
   "outputs": [
    {
     "data": {
      "image/png": "[encoded data removed]",
      "text/plain": [
       "<Figure size 640x480 with 1 Axes>"
      ]
     },
     "metadata": {},
     "output_type": "display_data"
    }
   ],
   "source": [
    "# Ваш код\n",
    "\n",
    "plot_fitting_curve('max_depth', np.arange(1, 20), X_train, X_test, y_train, y_test)"
   ]
  },
  {
   "cell_type": "markdown",
   "metadata": {},
   "source": [
    "Начиная с глубины 3 дерево начинает переобучаться."
   ]
  },
  {
   "cell_type": "code",
   "execution_count": 117,
   "metadata": {},
   "outputs": [
    {
     "data": {
      "image/png": "[encoded data removed]",
      "text/plain": [
       "<Figure size 640x480 with 1 Axes>"
      ]
     },
     "metadata": {},
     "output_type": "display_data"
    }
   ],
   "source": [
    "plot_fitting_curve('min_samples_leaf', np.arange(1, 10), X_train, X_test, y_train, y_test)"
   ]
  },
  {
   "cell_type": "markdown",
   "metadata": {
    "id": "rJlf6gJ9RBhf"
   },
   "source": [
    "# Простое ансамблирование (1 балл)\n",
    "\n",
    "В этой секции мы реализуем простой ансамбль деревьев."
   ]
  },
  {
   "cell_type": "code",
   "execution_count": 118,
   "metadata": {
    "id": "Ht7wq9TqUfvZ"
   },
   "outputs": [],
   "source": [
    "class EnsembleTreeRegressor:\n",
    "    def __init__(self, num_trees=5, samples_frac=0.8, **model_kwargs):\n",
    "        self._samples_frac = 0.8\n",
    "        self._trees = [DecisionTreeRegressor(**model_kwargs) for _ in range(num_trees)]\n",
    "\n",
    "    def fit(self, x: pd.DataFrame, y: pd.Series):\n",
    "        for tree in self._trees:\n",
    "            tree_x = x.sample(frac=self._samples_frac, random_state=42)\n",
    "            tree_y = y[tree_x.index]\n",
    "            tree.fit(tree_x, tree_y)\n",
    "\n",
    "    def predict(self, x: pd.DataFrame):\n",
    "        # В качестве предсказания ансамбля будем выдавать усреднение предсказаний деревьев\n",
    "        predictions = []\n",
    "        for tree in self._trees:\n",
    "            predictions.append(tree.predict(x))\n",
    "        return np.mean(predictions, axis=0)"
   ]
  },
  {
   "cell_type": "code",
   "execution_count": 121,
   "metadata": {},
   "outputs": [
    {
     "data": {
      "text/plain": [
       "-0.17127917182903096"
      ]
     },
     "execution_count": 121,
     "metadata": {},
     "output_type": "execute_result"
    }
   ],
   "source": [
    "ensembleTreeRegressor = EnsembleTreeRegressor()\n",
    "\n",
    "ensembleTreeRegressor.fit(X_train, y_train)\n",
    "\n",
    "predictions_ensemble = ensembleTreeRegressor.predict(X_test)\n",
    "\n",
    "r2_ensemble = r2_score(y_test, predictions_ensemble)"
   ]
  },
  {
   "cell_type": "code",
   "execution_count": 122,
   "metadata": {},
   "outputs": [
    {
     "name": "stdout",
     "output_type": "stream",
     "text": [
      "-0.17127917182903096\n"
     ]
    }
   ],
   "source": [
    "print(r2_ensemble)"
   ]
  },
  {
   "cell_type": "markdown",
   "metadata": {},
   "source": [
    "В какой-то степени ансамбль в данном случае сработал лучше."
   ]
  },
  {
   "cell_type": "markdown",
   "metadata": {
    "id": "FCxogZPuVZCF"
   },
   "source": [
    "Проверьте, работает ли этот ансамбль лучше обычного дерева с параметрами по умолчанию?\n",
    "\n",
    "Дополнительно переберите максимальную глубину дерева. Проверьте, насколько отличается момент начала переобучения у одиночного дерева и у ансамбля. Зависит ли этот момент от числа деревьев (`num_trees`)? От числа примеров для каждого дерева (`samples_frac`)? Постройте график fitting curve."
   ]
  },
  {
   "cell_type": "code",
   "execution_count": 123,
   "metadata": {
    "id": "WJrBtD3rXOTH"
   },
   "outputs": [],
   "source": [
    "def plot_fitting_ensemble_curve(parameter: str, values: list, X_train, X_test, y_train, y_test):\n",
    "    train_curve = []\n",
    "    test_curve = []\n",
    "    for value in values:\n",
    "        model = EnsembleTreeRegressor(**{parameter: value})\n",
    "        model.fit(X_train, y_train)\n",
    "        y_pred_train, y_pred_test = model.predict(X_train), model.predict(X_test)\n",
    "        train_curve.append(mse(y_train, y_pred_train))\n",
    "        test_curve.append(mse(y_test, y_pred_test))\n",
    "    sns.lineplot(x=values, y=train_curve)\n",
    "    sns.lineplot(x=values, y=test_curve)"
   ]
  },
  {
   "cell_type": "code",
   "execution_count": 126,
   "metadata": {},
   "outputs": [
    {
     "data": {
      "image/png": "[encoded data removed]",
      "text/plain": [
       "<Figure size 640x480 with 1 Axes>"
      ]
     },
     "metadata": {},
     "output_type": "display_data"
    }
   ],
   "source": [
    "plot_fitting_ensemble_curve('max_depth', np.arange(1, 10), X_train, X_test, y_train, y_test)"
   ]
  },
  {
   "cell_type": "markdown",
   "metadata": {},
   "source": [
    "Судя по этому графику, переобучение у одиночного дерева и ансамбля не сильно отличается."
   ]
  },
  {
   "cell_type": "code",
   "execution_count": 129,
   "metadata": {},
   "outputs": [],
   "source": [
    "ensembleTreeRegressor_3 = EnsembleTreeRegressor(num_trees=3)\n",
    "\n",
    "ensembleTreeRegressor_3.fit(X_train, y_train)\n",
    "\n",
    "predictions_ensemble_3 = ensembleTreeRegressor_3.predict(X_test)"
   ]
  },
  {
   "cell_type": "code",
   "execution_count": 130,
   "metadata": {},
   "outputs": [
    {
     "data": {
      "image/png": "[encoded data removed]",
      "text/plain": [
       "<Figure size 640x480 with 1 Axes>"
      ]
     },
     "metadata": {},
     "output_type": "display_data"
    }
   ],
   "source": [
    "plot_fitting_ensemble_curve('max_depth', np.arange(1, 10), X_train, X_test, y_train, y_test)"
   ]
  },
  {
   "cell_type": "markdown",
   "metadata": {},
   "source": [
    "Судя по графикам в зависимости от количества деревьев, число деревьев не влияет на переобучени, однако возможен такой момент, что я рассмотрел всего один случай. "
   ]
  },
  {
   "cell_type": "code",
   "execution_count": 139,
   "metadata": {},
   "outputs": [
    {
     "data": {
      "image/png": "[encoded data removed]",
      "text/plain": [
       "<Figure size 640x480 with 1 Axes>"
      ]
     },
     "metadata": {},
     "output_type": "display_data"
    }
   ],
   "source": [
    "plot_fitting_ensemble_curve('samples_frac', np.arange(0.1, 1.1, 0.1), X_train, X_test, y_train, y_test)"
   ]
  },
  {
   "cell_type": "code",
   "execution_count": null,
   "metadata": {},
   "outputs": [],
   "source": [
    "От числа примеров не зависит."
   ]
  }
 ],
 "metadata": {
  "colab": {
   "provenance": []
  },
  "gpuClass": "standard",
  "kernelspec": {
   "display_name": "Python 3 (ipykernel)",
   "language": "python",
   "name": "python3"
  },
  "language_info": {
   "codemirror_mode": {
    "name": "ipython",
    "version": 3
   },
   "file_extension": ".py",
   "mimetype": "text/x-python",
   "name": "python",
   "nbconvert_exporter": "python",
   "pygments_lexer": "ipython3",
   "version": "3.10.9"
  }
 },
 "nbformat": 4,
 "nbformat_minor": 1
}
